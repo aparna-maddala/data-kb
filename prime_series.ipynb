{
 "cells": [
  {
   "cell_type": "code",
   "execution_count": 1,
   "metadata": {},
   "outputs": [],
   "source": [
    "import math\n",
    "import numpy as np\n",
    "import pandas as pd\n",
    "import matplotlib.pyplot as plt\n",
    "import seaborn as sns"
   ]
  },
  {
   "cell_type": "markdown",
   "metadata": {},
   "source": [
    "# Prime Numbers"
   ]
  },
  {
   "cell_type": "markdown",
   "metadata": {},
   "source": [
    "## Inspecting Prime Numbers"
   ]
  },
  {
   "cell_type": "markdown",
   "metadata": {},
   "source": [
    "CLAIM: the number of prime numbers between 1 and 10 can be described by an equation in the form O(n) = U(n) + W(n)"
   ]
  },
  {
   "cell_type": "code",
   "execution_count": 2,
   "metadata": {},
   "outputs": [],
   "source": [
    "# first 100 primes\n",
    "primes_list = np.array([2, 3, 5, 7, 11, 13, 17, 19, 23, 29, 31, 37, 41, 43, 47, 53, 59, 61, 67, 71, 73, 79, 83, \n",
    "               89, 97, 101, 103, 107, 109, 113, 127, 131, 137, 139, 149, 151, 157, 163, 167, 173, 179, \n",
    "               181, 191, 193, 197, 199, 211, 223, 227, 229, 233, 239, 241, 251, 257, 263, 269, 271, 277, \n",
    "               281, 283, 293, 307, 311, 313, 317, 331, 337, 347, 349, 353, 359, 367, 373, 379, 383, 389, \n",
    "               397, 401, 409, 419, 421, 431, 433, 439, 443, 449, 457, 461, 463, 467, 479, 487, 491, 499, \n",
    "               503, 509, 521, 523, 541])"
   ]
  },
  {
   "cell_type": "code",
   "execution_count": 3,
   "metadata": {},
   "outputs": [
    {
     "data": {
      "image/png": "[encoded data removed]",
      "text/plain": [
       "<Figure size 640x480 with 1 Axes>"
      ]
     },
     "metadata": {},
     "output_type": "display_data"
    }
   ],
   "source": [
    "fig, ax = plt.subplots()\n",
    "ax.plot(primes_list)\n",
    "plt.show()"
   ]
  },
  {
   "cell_type": "code",
   "execution_count": 3,
   "metadata": {},
   "outputs": [],
   "source": [
    "def pythag(a, b):\n",
    "    c = math.sqrt(a**2 + b**2)\n",
    "    return c"
   ]
  },
  {
   "cell_type": "code",
   "execution_count": 6,
   "metadata": {},
   "outputs": [],
   "source": [
    "def test(x):\n",
    "    a = x**x\n",
    "    b = (x + 1)**(x + 1)\n",
    "    c = a + b\n",
    "    return c"
   ]
  },
  {
   "cell_type": "code",
   "execution_count": 7,
   "metadata": {},
   "outputs": [
    {
     "name": "stdout",
     "output_type": "stream",
     "text": [
      "2 3\n",
      "3.605551275463989\n",
      "31\n",
      "3 5\n",
      "5.830951894845301\n",
      "283\n",
      "5 7\n",
      "8.602325267042627\n",
      "49781\n",
      "7 11\n",
      "13.038404810405298\n",
      "17600759\n",
      "11 13\n",
      "17.029386365926403\n",
      "9201412118867\n",
      "13 17\n",
      "21.400934559032695\n",
      "11414881932150269\n",
      "17 19\n",
      "25.495097567963924\n",
      "-3360255356529080047\n",
      "19 23\n",
      "29.832867780352597\n",
      "4252316664126311307\n",
      "23 29\n",
      "37.013511046643494\n",
      "8450172506621111015\n",
      "29 31\n",
      "42.44997055358225\n",
      "8095346709418888205\n"
     ]
    }
   ],
   "source": [
    "for i in range(10):\n",
    "    a = primes_list[i]\n",
    "    b = primes_list[i + 1]\n",
    "    c = pythag(a, b)\n",
    "\n",
    "    print(a, b)\n",
    "    print(pythag(a, b))\n",
    "    print(test(a))"
   ]
  },
  {
   "cell_type": "code",
   "execution_count": 4,
   "metadata": {},
   "outputs": [],
   "source": [
    "def square_zip(x):\n",
    "    if x == 1:\n",
    "        return 1\n",
    "    else:\n",
    "        return (x^2 - (square_zip(x - 1)*x))"
   ]
  },
  {
   "cell_type": "code",
   "execution_count": 5,
   "metadata": {},
   "outputs": [
    {
     "name": "stdout",
     "output_type": "stream",
     "text": [
      "[2, 2]\n",
      "[3, -1]\n",
      "[4, 2]\n",
      "[5, -3]\n",
      "[6, 18]\n",
      "[7, -125]\n",
      "[8, 994]\n",
      "[9, -8935]\n"
     ]
    }
   ],
   "source": [
    "for x in range(2, 10):\n",
    "    print([x, square_zip(x)])"
   ]
  },
  {
   "cell_type": "markdown",
   "metadata": {},
   "source": [
    "some definitions:\n",
    "- descartes: I think therefore I am: something exists. let's call it 1\n",
    "- there's also nothing. let's call that 0.\n",
    "- let's use the following convention to express a state of an object at a current point in time:\n",
    "\n",
    "object | something | nothing\n",
    "a   | 1 | 1"
   ]
  },
  {
   "cell_type": "markdown",
   "metadata": {},
   "source": [
    "## Prime Numbers"
   ]
  },
  {
   "cell_type": "markdown",
   "metadata": {},
   "source": [
    "all multiplication problems can be broken down to addition, all exponential problems can be broken down to division, etc.\n",
    "and the way you do that is by using the opposite function"
   ]
  },
  {
   "cell_type": "code",
   "execution_count": 6,
   "metadata": {},
   "outputs": [],
   "source": [
    "def zip(x, n):\n",
    "    return (x + n, n + 1)"
   ]
  },
  {
   "cell_type": "markdown",
   "metadata": {},
   "source": [
    "```\n",
    "1 + 1 = (1 + 1) - 0\n",
    "2 + 1 = (2 + 1) - 1\n",
    "3 + 1 = (3 + 1) - 1\n",
    "```"
   ]
  },
  {
   "cell_type": "markdown",
   "metadata": {},
   "source": [
    "and so on until infinity. this MUST be true because 1 - 1 = 0\n",
    "so, in order to get to infinity, you need to start with a big number (x) and then add 1 forever"
   ]
  },
  {
   "cell_type": "code",
   "execution_count": 7,
   "metadata": {},
   "outputs": [],
   "source": [
    "def unzip(x, n):\n",
    "    return (x - n, n + 1)"
   ]
  },
  {
   "cell_type": "markdown",
   "metadata": {},
   "source": [
    "but what if you’re trying to start with a really big number and go down? say, 1000?\n",
    "in order to get back to zero you need to subtract over and over and over again"
   ]
  },
  {
   "cell_type": "code",
   "execution_count": 8,
   "metadata": {},
   "outputs": [],
   "source": [
    "def step_down(x, stepsize = 2):\n",
    "    stepdown = np.array([[x, 0]])\n",
    "    y = x - 1\n",
    "    z = stepsize - 1\n",
    "    print([y, z])\n",
    "    stepdown.insert([y,z])\n",
    "    return"
   ]
  },
  {
   "cell_type": "markdown",
   "metadata": {},
   "source": [
    "```\n",
    "0 = 1000 - 1000\n",
    "1 = 1000 - 999\n",
    "0 = 999 - 999\n",
    "1 = 999 - 998\n",
    "0 = 998 - 998\n",
    "1 = 998 - 997\n",
    "0 = 997 - 997\n",
    "1 = 997 - 996\n",
    "```"
   ]
  },
  {
   "cell_type": "code",
   "execution_count": 9,
   "metadata": {},
   "outputs": [],
   "source": [
    "def is_factor(x, n):\n",
    "    return (x % n == 0)"
   ]
  },
  {
   "cell_type": "markdown",
   "metadata": {},
   "source": [
    "## Squares"
   ]
  },
  {
   "cell_type": "code",
   "execution_count": 10,
   "metadata": {},
   "outputs": [
    {
     "ename": "NameError",
     "evalue": "name 'square_count' is not defined",
     "output_type": "error",
     "traceback": [
      "\u001b[0;31m---------------------------------------------------------------------------\u001b[0m",
      "\u001b[0;31mNameError\u001b[0m                                 Traceback (most recent call last)",
      "Cell \u001b[0;32mIn[10], line 1\u001b[0m\n\u001b[0;32m----> 1\u001b[0m square_count \u001b[38;5;241m=\u001b[39m pd\u001b[38;5;241m.\u001b[39mDataFrame([[x, square_count(x)] \u001b[38;5;28;01mfor\u001b[39;00m x \u001b[38;5;129;01min\u001b[39;00m \u001b[38;5;28mrange\u001b[39m(\u001b[38;5;241m1\u001b[39m, \u001b[38;5;241m10001\u001b[39m)], columns \u001b[38;5;241m=\u001b[39m [\u001b[38;5;124m\"\u001b[39m\u001b[38;5;124mx\u001b[39m\u001b[38;5;124m\"\u001b[39m, \u001b[38;5;124m\"\u001b[39m\u001b[38;5;124mf_x\u001b[39m\u001b[38;5;124m\"\u001b[39m])\n\u001b[1;32m      2\u001b[0m square_count\n",
      "\u001b[0;31mNameError\u001b[0m: name 'square_count' is not defined"
     ]
    }
   ],
   "source": [
    "square_count = pd.DataFrame([[x, square_count(x)] for x in range(1, 10001)], columns = [\"x\", \"f_x\"])\n",
    "square_count"
   ]
  },
  {
   "cell_type": "markdown",
   "metadata": {},
   "source": [
    "## Triangles"
   ]
  },
  {
   "cell_type": "code",
   "execution_count": null,
   "metadata": {},
   "outputs": [],
   "source": [
    "def hypotenuse(a, b):\n",
    "    return (a**2 + b**2)"
   ]
  },
  {
   "cell_type": "markdown",
   "metadata": {},
   "source": [
    "```\n",
    "1000 = 1000 +  0\n",
    "1000 = 999  -  1\n",
    "999  = 999  +  0\n",
    "998  = 998  -  1\n",
    "997  = 997  +  0\n",
    "996  = 996  -  1\n",
    "995  = 995  +  0\n",
    "994  = 994  -  1\n",
    "993  = 993  +  0\n",
    "992  = 992  -  1\n",
    "991  = 991  +  0\n",
    "990  = 991  -  1\n",
    "990  = 990  +  0\n",
    "```"
   ]
  },
  {
   "cell_type": "code",
   "execution_count": null,
   "metadata": {},
   "outputs": [],
   "source": [
    "def binary_conversion(x):\n",
    "    return z"
   ]
  },
  {
   "cell_type": "code",
   "execution_count": null,
   "metadata": {},
   "outputs": [],
   "source": [
    "stepdown_x = pd.DataFrame([[x, square_count(x)] for x in range(1, 10)], columns = [\"x\", \"y\", \"z\"])\n",
    "stepdown_x"
   ]
  },
  {
   "cell_type": "markdown",
   "metadata": {},
   "source": [
    "* let’s represent the set of all natural numbers as a number line that is constantly expanding, with negative infinity at one end and positive infinity at the other\n",
    "* by definition zero must be in the exact center of this number line.\n",
    "* all natural numbers, including a william, are approachable if you start from both ends of the number line and work inwards\n",
    "* if the william is positive it must be between zero and positive infinity\n",
    "* if the william is negative it must be between negative infinity and zero\n",
    "* all natural numbers are clustered around zero"
   ]
  },
  {
   "cell_type": "code",
   "execution_count": null,
   "metadata": {},
   "outputs": [],
   "source": [
    "def prime_count(x):\n",
    "    pass"
   ]
  },
  {
   "cell_type": "markdown",
   "metadata": {},
   "source": [
    "## Zipping Down"
   ]
  },
  {
   "cell_type": "markdown",
   "metadata": {},
   "source": [
    "## Zipping Up"
   ]
  },
  {
   "cell_type": "markdown",
   "metadata": {},
   "source": [
    "## Binary"
   ]
  },
  {
   "cell_type": "code",
   "execution_count": null,
   "metadata": {},
   "outputs": [
    {
     "data": {
      "text/plain": [
       "[<matplotlib.lines.Line2D at 0x7f7b89071190>]"
      ]
     },
     "execution_count": 29,
     "metadata": {},
     "output_type": "execute_result"
    },
    {
     "data": {
      "image/png": "[encoded data removed]",
      "text/plain": [
       "<Figure size 640x480 with 1 Axes>"
      ]
     },
     "metadata": {},
     "output_type": "display_data"
    }
   ],
   "source": [
    "n = 20\n",
    "x = np.array(range(n + 1))\n",
    "y = np.array([math.sin((math.pi/2)*n) for n in x])\n",
    "# y = [math.sin(x*math.pi) for x in x]\n",
    "z = np.array((x, y))\n",
    "\n",
    "plt.plot(x, y)"
   ]
  }
 ],
 "metadata": {
  "kernelspec": {
   "display_name": "base",
   "language": "python",
   "name": "python3"
  },
  "language_info": {
   "codemirror_mode": {
    "name": "ipython",
    "version": 3
   },
   "file_extension": ".py",
   "mimetype": "text/x-python",
   "name": "python",
   "nbconvert_exporter": "python",
   "pygments_lexer": "ipython3",
   "version": "3.12.4"
  }
 },
 "nbformat": 4,
 "nbformat_minor": 2
}